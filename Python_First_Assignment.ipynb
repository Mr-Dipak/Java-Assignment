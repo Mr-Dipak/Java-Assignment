{
  "nbformat": 4,
  "nbformat_minor": 0,
  "metadata": {
    "colab": {
      "provenance": [],
      "authorship_tag": "ABX9TyMMYjc7dukdQEUWY2BrTw1V",
      "include_colab_link": true
    },
    "kernelspec": {
      "name": "python3",
      "display_name": "Python 3"
    },
    "language_info": {
      "name": "python"
    }
  },
  "cells": [
    {
      "cell_type": "markdown",
      "metadata": {
        "id": "view-in-github",
        "colab_type": "text"
      },
      "source": [
        "<a href=\"https://colab.research.google.com/github/Mr-Dipak/Java-Assignment/blob/main/Python_First_Assignment.ipynb\" target=\"_parent\"><img src=\"https://colab.research.google.com/assets/colab-badge.svg\" alt=\"Open In Colab\"/></a>"
      ]
    },
    {
      "cell_type": "code",
      "execution_count": 1,
      "metadata": {
        "colab": {
          "base_uri": "https://localhost:8080/"
        },
        "id": "fkkYyqC6NPaN",
        "outputId": "fa779f94-5079-4ccc-8788-f0cbbd5cc75e"
      },
      "outputs": [
        {
          "output_type": "stream",
          "name": "stdout",
          "text": [
            "This Output is printed by using + operator: \n",
            "Chalisgaon Road \n",
            "Kannad \n",
            "India\n",
            "This output is printed by using f-string: \n",
            "Chalisgaon Road \n",
            "Kannad \n",
            "India\n"
          ]
        }
      ],
      "source": [
        "'''\n",
        "\n",
        "1. Create 3 variables to store street, city and country, now create address variable to store entire address.\n",
        "Use two ways of creating this variable, one using + operator and the other using f-string. Now Print the address in such a way that the street,\n",
        "city and country prints in a separate line\n",
        "\n",
        "GitHub Repositories : https://github.com/Mr-Dipak/Python-Assignment-1\n",
        "\n",
        "'''\n",
        "\n",
        "street = \"Chalisgaon Road \"\n",
        "city = \"Kannad \"\n",
        "country = \"India\"\n",
        "\n",
        "address = street+\"\\n\" + city + \"\\n\" + country\n",
        "print(\"This Output is printed by using + operator: \\n\" + address)\n",
        "\n",
        "address2 = f\"{street}\\n{city}\\n{country}\"\n",
        "print(\"This output is printed by using f-string: \\n\"+address2)\n",
        "\n",
        "\n",
        "\n",
        "\n"
      ]
    },
    {
      "cell_type": "code",
      "source": [
        "'''\n",
        "2. Create a variable to store the string \"Earth revolves around the sun\"\n",
        "i. Print revolves\" using slice operator ii. Print \"sun\" using negative index\n",
        "\n",
        "GitHub Repositories : https://github.com/Mr-Dipak/Python-Assignment-1\n",
        "\n",
        "'''\n",
        "\n",
        "string = \"Earth revolves revolves around the sun\"\n",
        "rev = string[6:14]\n",
        "sun = string[-3:]\n",
        "\n",
        "print(rev)\n",
        "print(sun)"
      ],
      "metadata": {
        "colab": {
          "base_uri": "https://localhost:8080/"
        },
        "id": "ZdlW-azVPCg3",
        "outputId": "cd177143-18f6-4e38-de53-1ffeabc60d86"
      },
      "execution_count": 4,
      "outputs": [
        {
          "output_type": "stream",
          "name": "stdout",
          "text": [
            "revolves\n",
            "sun\n"
          ]
        }
      ]
    },
    {
      "cell_type": "code",
      "source": [
        "'''\n",
        "3. Create two variables to store how many fruits and vegetables you eat in a day.\n",
        "Now Print \"I eat x veggies and y fruits daily\" where x and y presents vegetables and fruits that you eat everyday.\n",
        "Use python f string for this.\n",
        "\n",
        "GitHub Repositories : https://github.com/Mr-Dipak/Python-Assignment-1\n",
        "\n",
        "'''\n",
        "\n",
        "x = 3\n",
        "y = 5\n",
        "\n",
        "print(f\"I eat {x} veggies and {y} fruits daily\")"
      ],
      "metadata": {
        "colab": {
          "base_uri": "https://localhost:8080/"
        },
        "id": "8rDC_ieaPoQS",
        "outputId": "2a830a59-7e3a-4d8e-9a53-931a655055ea"
      },
      "execution_count": 5,
      "outputs": [
        {
          "output_type": "stream",
          "name": "stdout",
          "text": [
            "I eat 3 veggies and 5 fruits daily\n"
          ]
        }
      ]
    },
    {
      "cell_type": "code",
      "source": [
        "'''\n",
        "\n",
        "4. I have a string variable called s='maine 200 banana khaye'. This of course is a wrong statement, the correct statement is 'maine 10 samosa khaye'.\n",
        "Replace incorrect words in original strong with new ones and print the new string. Also try to do this in one line.\n",
        "\n",
        "GitHub Repositories : https://github.com/Mr-Dipak/Python-Assignment-1\n",
        "\n",
        "'''\n",
        "\n",
        "s='maine 200 banana khaye'\n",
        "\n",
        "print(s.replace(\"200\",\"10\").replace(\"banana\",\"samosa\"))\n"
      ],
      "metadata": {
        "colab": {
          "base_uri": "https://localhost:8080/"
        },
        "id": "54SXCHzwPt-9",
        "outputId": "534c02b3-a22c-4cb9-8329-4829cda32736"
      },
      "execution_count": 6,
      "outputs": [
        {
          "output_type": "stream",
          "name": "stdout",
          "text": [
            "maine 10 samosa khaye\n"
          ]
        }
      ]
    }
  ]
}